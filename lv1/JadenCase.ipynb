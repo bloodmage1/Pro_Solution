{
 "cells": [
  {
   "cell_type": "code",
   "execution_count": 40,
   "id": "3e88d66a",
   "metadata": {},
   "outputs": [
    {
     "data": {
      "text/plain": [
       "['3people', 'unFollowed', '', '', '', 'me']"
      ]
     },
     "execution_count": 40,
     "metadata": {},
     "output_type": "execute_result"
    }
   ],
   "source": [
    "s = \"3people unFollowed    me\"\n",
    "\n",
    "space = s.split(\" \")\n",
    "\n",
    "space"
   ]
  },
  {
   "cell_type": "code",
   "execution_count": 105,
   "id": "38e3878f",
   "metadata": {},
   "outputs": [
    {
     "name": "stdout",
     "output_type": "stream",
     "text": [
      "3people Unfollowed    Me\n"
     ]
    }
   ],
   "source": [
    "other_str = \"\"\n",
    "for word in space:\n",
    "    if word == '':\n",
    "        other_str += \" \"\n",
    "        \n",
    "    else:\n",
    "        lower_word = word.lower()\n",
    "        \n",
    "        if word[0].isdigit() == True:\n",
    "            other_str += lower_word\n",
    "            other_str += \" \"\n",
    "        else:    \n",
    "            other_str += word[0].upper() + lower_word[1:]\n",
    "            other_str += \" \"\n",
    "    \n",
    "print(other_str[:-1])"
   ]
  },
  {
   "cell_type": "code",
   "execution_count": 45,
   "id": "eaeb3dcc",
   "metadata": {},
   "outputs": [
    {
     "name": "stdout",
     "output_type": "stream",
     "text": [
      "\n",
      "\n",
      "\n"
     ]
    }
   ],
   "source": [
    "a = \"   a\".split(\" \")\n",
    "\n",
    "for i in a:\n",
    "    if i == '':\n",
    "        print(i)"
   ]
  },
  {
   "cell_type": "code",
   "execution_count": 101,
   "id": "5920c340",
   "metadata": {},
   "outputs": [
    {
     "name": "stdout",
     "output_type": "stream",
     "text": [
      "fuck\n"
     ]
    }
   ],
   "source": [
    "word = \"3people\"\n",
    "word2 = \"unpeaple\"\n",
    "\n",
    "if word[0].isdigit() == True:\n",
    "    print(\"fuck\")\n",
    "else:\n",
    "    print(\"certainly\")"
   ]
  },
  {
   "cell_type": "code",
   "execution_count": null,
   "id": "0a3e56cc",
   "metadata": {},
   "outputs": [],
   "source": [
    "\"\""
   ]
  }
 ],
 "metadata": {
  "kernelspec": {
   "display_name": "Python 3",
   "language": "python",
   "name": "python3"
  },
  "language_info": {
   "codemirror_mode": {
    "name": "ipython",
    "version": 3
   },
   "file_extension": ".py",
   "mimetype": "text/x-python",
   "name": "python",
   "nbconvert_exporter": "python",
   "pygments_lexer": "ipython3",
   "version": "3.7.0"
  }
 },
 "nbformat": 4,
 "nbformat_minor": 5
}
